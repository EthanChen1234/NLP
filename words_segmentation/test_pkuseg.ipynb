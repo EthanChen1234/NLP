{
 "cells": [
  {
   "cell_type": "markdown",
   "metadata": {},
   "source": [
    "## 1 分词"
   ]
  },
  {
   "cell_type": "code",
   "execution_count": null,
   "metadata": {},
   "outputs": [],
   "source": [
    "import pkuseg\n",
    "\n",
    "lines = ['180天内 年内 三个月起 90-180天 超期 足月 三月一日到五月一日',\n",
    "         '2020.12.18 2020/3/5 2020年3月5日 2020-3-5',\n",
    "         '12月份 9月份到 1月后 11月1日 1月30号 10/1-12/30到',\n",
    "         '五个月后 五个月起 5个月起 5个月后 5个月',\n",
    "         '12个月内 一年以内 一年内 1年内 不限日期 不看日期 不限期 不限时间 不分日期 一年期 12个月',\n",
    "         '1月份到 1月到 1月31日前到 1月前到 1月31日到 1月31日']\n",
    "\n",
    "seg = pkuseg.pkuseg()\n",
    "for line in lines:\n",
    "    text = seg.cut(line)\n",
    "    print(text)"
   ]
  },
  {
   "cell_type": "markdown",
   "metadata": {},
   "source": [
    "## 2 词性标注"
   ]
  },
  {
   "cell_type": "markdown",
   "metadata": {},
   "source": [
    "**tags**\n",
    "\n",
    "n   名词\n",
    "t   时间词\n",
    "s   处所词\n",
    "f   方位词\n",
    "m   数词\n",
    "q   量词\n",
    "b   区别词\n",
    "r   代词\n",
    "v   动词\n",
    "a   形容词\n",
    "z   状态词\n",
    "d   副词\n",
    "p   介词\n",
    "c   连词\n",
    "u   助词\n",
    "y   语气词\n",
    "e   叹词\n",
    "o   拟声词\n",
    "i   成语\n",
    "l   习惯用语\n",
    "j   简称\n",
    "h   前接成分\n",
    "k   后接成分\n",
    "g   语素\n",
    "x   非语素字\n",
    "w   标点符号\n",
    "nr  人名\n",
    "ns  地名\n",
    "nt  机构名称\n",
    "nx  外文字符\n",
    "nz  其它专名\n",
    "vd  副动词\n",
    "vn  名动词\n",
    "vx  形式动词\n",
    "ad  副形词\n",
    "an  名形词"
   ]
  },
  {
   "cell_type": "code",
   "execution_count": null,
   "metadata": {},
   "outputs": [],
   "source": [
    "seg = pkuseg.pkuseg(postag=True)\n",
    "line = '出 20 长乐农商 05.28 3580 12月31日 半年'\n",
    "text = seg.cut(line)\n",
    "print(text)"
   ]
  },
  {
   "cell_type": "code",
   "execution_count": null,
   "metadata": {},
   "outputs": [],
   "source": [
    "lines = ['180天内 年内 三个月起 90-180天 超期 足月 三月一日到五月一日',\n",
    "         '2020.12.18 2020/3/5 2020年3月5日 2020-3-5',\n",
    "         '12月份 9月份到 1月后 11月1日 1月30号 10/1-12/30到',\n",
    "         '五个月后 五个月起 5个月起 5个月后 5个月',\n",
    "         '12个月内 一年以内 一年内 1年内 不限日期 不看日期 不限期 不限时间 不分日期 一年期 12个月',\n",
    "         '1月份到 1月到 1月31日前到 1月前到 1月31日到 1月31日']\n",
    "for line in lines:\n",
    "    text = seg.cut(line)\n",
    "    print(text)"
   ]
  },
  {
   "cell_type": "code",
   "execution_count": null,
   "metadata": {},
   "outputs": [],
   "source": []
  }
 ],
 "metadata": {
  "kernelspec": {
   "display_name": "Python 3",
   "language": "python",
   "name": "python3"
  },
  "language_info": {
   "codemirror_mode": {
    "name": "ipython",
    "version": 3
   },
   "file_extension": ".py",
   "mimetype": "text/x-python",
   "name": "python",
   "nbconvert_exporter": "python",
   "pygments_lexer": "ipython3",
   "version": "3.6.6"
  }
 },
 "nbformat": 4,
 "nbformat_minor": 4
}
