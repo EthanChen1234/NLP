{
 "cells": [
  {
   "cell_type": "code",
   "execution_count": 1,
   "metadata": {},
   "outputs": [],
   "source": [
    "import jieba"
   ]
  },
  {
   "cell_type": "markdown",
   "metadata": {},
   "source": [
    "精确模式，cut_all=False，默认。精确分词，适合文本分析\n",
    "全局模式，cut_all=True。所有可以成词的都扫描出来，速度快，不能解决歧义\n",
    "搜索引擎模式，cut_for_search。在精确模式的基础上，对长词再次切分，提高召回率，适合用于搜索引擎分词。\n",
    "paddle模式，use_paddle=True。利用PaddlePaddle深度学习框架，训练序列标注（双向GRU）网络模型实现分词。\n",
    "\n",
    "Q: jieba.cut()的默认参数 cut_all=False, HMM=True, use_paddle=False?"
   ]
  },
  {
   "cell_type": "code",
   "execution_count": 42,
   "metadata": {},
   "outputs": [
    {
     "name": "stdout",
     "output_type": "stream",
     "text": [
      "seg_1: ['出', ' ', ' ', '20', ' ', ' ', '长乐', '农商', ' ', ' ', '05.28', ' ', ' ', '3580']\n",
      "seg_2: ['出', ' ', ' ', '20', ' ', ' ', '长乐', '农商', ' ', ' ', '05', '.', '28', ' ', ' ', '3580']\n",
      "seg_3: ['出', ' ', ' ', '20', ' ', ' ', '长乐', '农商', ' ', ' ', '05', '.', '28', ' ', ' ', '3580']\n"
     ]
    }
   ],
   "source": [
    "line = '出  20  长乐农商  05.28  3580'\n",
    "seg_1 = jieba.cut(line, cut_all=False, HMM=True, use_paddle=False) # default\n",
    "print('seg_1:', list(seg_1))  \n",
    "\n",
    "seg_2 = jieba.lcut(line, cut_all=False, HMM=False, use_paddle=False)\n",
    "print('seg_2:', seg_2)\n",
    "\n",
    "seg_3 = jieba.lcut_for_search(line, HMM=False)\n",
    "print('seg_3:', seg_3)\n"
   ]
  },
  {
   "cell_type": "markdown",
   "metadata": {},
   "source": [
    "日期切分\n",
    "除了12.18写成小数的可以切出来，其它的都不行"
   ]
  },
  {
   "cell_type": "code",
   "execution_count": 41,
   "metadata": {},
   "outputs": [
    {
     "name": "stdout",
     "output_type": "stream",
     "text": [
      "seg_4: ['20', '廊坊', ' ', '12.18', ' ', '2020.12', '.', '18']\n",
      "seg_5: ['12', '月份', ' ', '9', '月份', '到', ' ', '1', '月', '后', ' ', '11', '月', '1', '日', ' ', '1', '月', '30', '号', ' ', '10', '/', '1', '-', '12', '/', '30', '到']\n",
      "seg_6: ['180', '天', '以内', ' ', '半年', '内', ' ', '三个', '月', '起', ' ', '90', '-', '180', '天', ' ', '超期', ' ', '足', '月', ' ', '三月', '一日', '到', '五月', '一日']\n"
     ]
    }
   ],
   "source": [
    "line = '20廊坊 12.18 2020.12.18'\n",
    "seg_4 = jieba.lcut(line)\n",
    "print('seg_4:', seg_4)\n",
    "\n",
    "line = '12月份 9月份到 1月后 11月1日 1月30号 10/1-12/30到'\n",
    "seg_5 = jieba.lcut(line)\n",
    "print('seg_5:', seg_5)\n",
    "\n",
    "line = '180天以内 半年内 三个月起 90-180天 超期 足月 三月一日到五月一日'\n",
    "seg_6 = jieba.lcut(line)\n",
    "print('seg_6:', seg_6)"
   ]
  },
  {
   "cell_type": "markdown",
   "metadata": {},
   "source": [
    "定义词典"
   ]
  },
  {
   "cell_type": "code",
   "execution_count": 3,
   "metadata": {},
   "outputs": [
    {
     "name": "stdout",
     "output_type": "stream",
     "text": [
      "seg_5: ['12月份', ' ', '9', '月份', '到', ' ', '1', '月', '后', ' ', '11', '月', '1', '日', ' ', '1月30号', ' ', '10', '/', '1', '-', '12', '/', '30', '到']\n",
      "seg_6: ['12月份', ' ', '9', '月份到', ' ', '1', '月', '后', ' ', '11', '月', '1', '日', ' ', '1月30号', ' ', '10', '/', '1', '-', '12', '/', '30', '到']\n"
     ]
    }
   ],
   "source": [
    "jieba.load_userdict('user_dict.txt')\n",
    "line = '12月份 9月份到 1月后 11月1日 1月30号 10/1-12/30到'\n",
    "seg_5 = jieba.lcut(line)\n",
    "print('seg_5:', seg_5)\n",
    "\n",
    "jieba.suggest_freq('月份到', True)  # 合并或分开，需关掉HMM\n",
    "seg_6 = jieba.lcut(line, HMM=False)\n",
    "print('seg_6:', seg_6)\n"
   ]
  },
  {
   "cell_type": "markdown",
   "metadata": {},
   "source": [
    "TF-IDF"
   ]
  },
  {
   "cell_type": "code",
   "execution_count": null,
   "metadata": {},
   "outputs": [],
   "source": [
    "import jieba.analyse\n"
   ]
  }
 ],
 "metadata": {
  "kernelspec": {
   "display_name": "Python 3",
   "language": "python",
   "name": "python3"
  },
  "language_info": {
   "codemirror_mode": {
    "name": "ipython",
    "version": 3
   },
   "file_extension": ".py",
   "mimetype": "text/x-python",
   "name": "python",
   "nbconvert_exporter": "python",
   "pygments_lexer": "ipython3",
   "version": "3.6.6"
  }
 },
 "nbformat": 4,
 "nbformat_minor": 4
}
